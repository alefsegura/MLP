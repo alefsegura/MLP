{
 "cells": [
  {
   "cell_type": "markdown",
   "metadata": {},
   "source": [
    "# SCC0570 - Introdução à Redes Neurais (ICMC - USP)\n",
    "\n",
    "* Alef Segura Santos, 9762942\n",
    "* Guatavo de Moura Souza, 9762981"
   ]
  },
  {
   "cell_type": "code",
   "execution_count": 1,
   "metadata": {},
   "outputs": [],
   "source": [
    "import pandas as pd\n",
    "import numpy as np\n",
    "import matplotlib.pyplot as plt\n",
    "\n",
    "from sklearn.model_selection import train_test_split"
   ]
  },
  {
   "cell_type": "markdown",
   "metadata": {},
   "source": [
    "## Input"
   ]
  },
  {
   "cell_type": "code",
   "execution_count": 2,
   "metadata": {
    "scrolled": true
   },
   "outputs": [],
   "source": [
    "dataset = pd.read_csv('semeion.data', sep=' ', lineterminator='\\n', header=None).iloc[:,:-1]"
   ]
  },
  {
   "cell_type": "markdown",
   "metadata": {},
   "source": [
    "### Amostra de imagens"
   ]
  },
  {
   "cell_type": "code",
   "execution_count": 423,
   "metadata": {},
   "outputs": [
    {
     "data": {
      "image/png": "[encoded data removed]",
      "text/plain": [
       "<matplotlib.figure.Figure at 0xe17bfd0>"
      ]
     },
     "metadata": {},
     "output_type": "display_data"
    }
   ],
   "source": [
    "plt.figure(figsize=(20,5))\n",
    "for i in range(1,8):\n",
    "    plt.subplot(1,8,i)\n",
    "    plt.imshow(dataset.iloc[:,:256].sample().values.reshape(16,16), cmap='binary');\n",
    "    plt.xticks([])\n",
    "    plt.yticks([])"
   ]
  },
  {
   "cell_type": "markdown",
   "metadata": {},
   "source": [
    "# Perceptron Multicamada"
   ]
  },
  {
   "cell_type": "code",
   "execution_count": 424,
   "metadata": {},
   "outputs": [],
   "source": [
    "class PerceptronMulticamada:\n",
    "    \n",
    "    # Configuração inicial da Rede Neural\n",
    "    def __init__(self, learning_rate=0.5, n_input=1, hidden_layers=(3,3), n_output=1):\n",
    "        n_input += 1\n",
    "        hidden_layers = tuple([x+1 for x in hidden_layers])\n",
    "        self.layers = (n_input,) + hidden_layers + (n_output,)\n",
    "        self.learning_rate = learning_rate\n",
    "        self.weights = [np.zeros((self.layers[i]-1,self.layers[i-1])) for i in range(1,len(self.layers)-1)]\n",
    "        self.weights.append(np.zeros((self.layers[-1],self.layers[-2])))\n",
    "\n",
    "    # Treinamento\n",
    "    def fit(self, X, y):\n",
    "        for v,label in zip(X,y):\n",
    "            for i in range(1,len(self.layers)):\n",
    "                print(v)\n",
    "                v = self.feed(v,self.weights[i-1])\n",
    "                print(v)\n",
    "                print('\\n')\n",
    "            self.backprop(v,label)\n",
    "        \n",
    "    # Feedforward\n",
    "    def feed(self, X, weights):\n",
    "        X = np.insert(X,0,1)\n",
    "        print(X)\n",
    "        print([w for w in weights])\n",
    "        return [self.sinal(np.sum(X*w)) for w in weights]\n",
    "    \n",
    "    # Backpropagation do erro\n",
    "    def backprop(self, y_true, y_predicted):\n",
    "        # ToDo\n",
    "        return None\n",
    "    \n",
    "    # Função sinal\n",
    "    def sinal(self, n):\n",
    "        return 0.0 if n <= 1.0 else -1.0\n",
    "            \n",
    "    # Imprime as camadas e os pesos\n",
    "    def get_net(self):\n",
    "        print(self.layers[0])\n",
    "        for w,n in zip(self.weights,self.layers[1:]):\n",
    "            print(w.tolist())\n",
    "            print(n)"
   ]
  },
  {
   "cell_type": "code",
   "execution_count": 425,
   "metadata": {},
   "outputs": [
    {
     "name": "stdout",
     "output_type": "stream",
     "text": [
      "0\n",
      "[1 0]\n",
      "[array([ 0.,  0.]), array([ 0.,  0.])]\n",
      "[0.0, 0.0]\n",
      "\n",
      "\n",
      "[0.0, 0.0]\n",
      "[ 1.  0.  0.]\n",
      "[array([ 0.,  0.,  0.]), array([ 0.,  0.,  0.])]\n",
      "[0.0, 0.0]\n",
      "\n",
      "\n",
      "[0.0, 0.0]\n",
      "[ 1.  0.  0.]\n",
      "[array([ 0.,  0.,  0.])]\n",
      "[0.0]\n",
      "\n",
      "\n"
     ]
    }
   ],
   "source": [
    "PerceptronMulticamada(n_input=1, hidden_layers=(2,2), n_output=1).fit([0],[1])"
   ]
  },
  {
   "cell_type": "markdown",
   "metadata": {},
   "source": [
    "# Aplicação\n",
    "## Reconhecendo dígitos manuscritos"
   ]
  },
  {
   "cell_type": "code",
   "execution_count": 416,
   "metadata": {},
   "outputs": [],
   "source": [
    "X = dataset.iloc[:,:256].values\n",
    "y = dataset.iloc[:,256:].values\n",
    "\n",
    "X_train, X_test, y_train, y_test = train_test_split(X,y)"
   ]
  },
  {
   "cell_type": "code",
   "execution_count": 419,
   "metadata": {},
   "outputs": [
    {
     "name": "stdout",
     "output_type": "stream",
     "text": [
      "257\n",
      "[[0.0, 0.0, 0.0, 0.0, 0.0, 0.0, 0.0, 0.0, 0.0, 0.0, 0.0, 0.0, 0.0, 0.0, 0.0, 0.0, 0.0, 0.0, 0.0, 0.0, 0.0, 0.0, 0.0, 0.0, 0.0, 0.0, 0.0, 0.0, 0.0, 0.0, 0.0, 0.0, 0.0, 0.0, 0.0, 0.0, 0.0, 0.0, 0.0, 0.0, 0.0, 0.0, 0.0, 0.0, 0.0, 0.0, 0.0, 0.0, 0.0, 0.0, 0.0, 0.0, 0.0, 0.0, 0.0, 0.0, 0.0, 0.0, 0.0, 0.0, 0.0, 0.0, 0.0, 0.0, 0.0, 0.0, 0.0, 0.0, 0.0, 0.0, 0.0, 0.0, 0.0, 0.0, 0.0, 0.0, 0.0, 0.0, 0.0, 0.0, 0.0, 0.0, 0.0, 0.0, 0.0, 0.0, 0.0, 0.0, 0.0, 0.0, 0.0, 0.0, 0.0, 0.0, 0.0, 0.0, 0.0, 0.0, 0.0, 0.0, 0.0, 0.0, 0.0, 0.0, 0.0, 0.0, 0.0, 0.0, 0.0, 0.0, 0.0, 0.0, 0.0, 0.0, 0.0, 0.0, 0.0, 0.0, 0.0, 0.0, 0.0, 0.0, 0.0, 0.0, 0.0, 0.0, 0.0, 0.0, 0.0, 0.0, 0.0, 0.0, 0.0, 0.0, 0.0, 0.0, 0.0, 0.0, 0.0, 0.0, 0.0, 0.0, 0.0, 0.0, 0.0, 0.0, 0.0, 0.0, 0.0, 0.0, 0.0, 0.0, 0.0, 0.0, 0.0, 0.0, 0.0, 0.0, 0.0, 0.0, 0.0, 0.0, 0.0, 0.0, 0.0, 0.0, 0.0, 0.0, 0.0, 0.0, 0.0, 0.0, 0.0, 0.0, 0.0, 0.0, 0.0, 0.0, 0.0, 0.0, 0.0, 0.0, 0.0, 0.0, 0.0, 0.0, 0.0, 0.0, 0.0, 0.0, 0.0, 0.0, 0.0, 0.0, 0.0, 0.0, 0.0, 0.0, 0.0, 0.0, 0.0, 0.0, 0.0, 0.0, 0.0, 0.0, 0.0, 0.0, 0.0, 0.0, 0.0, 0.0, 0.0, 0.0, 0.0, 0.0, 0.0, 0.0, 0.0, 0.0, 0.0, 0.0, 0.0, 0.0, 0.0, 0.0, 0.0, 0.0, 0.0, 0.0, 0.0, 0.0, 0.0, 0.0, 0.0, 0.0, 0.0, 0.0, 0.0, 0.0, 0.0, 0.0, 0.0, 0.0, 0.0, 0.0, 0.0, 0.0, 0.0, 0.0, 0.0, 0.0, 0.0, 0.0, 0.0, 0.0, 0.0]]\n",
      "2\n",
      "[[0.0, 0.0], [0.0, 0.0], [0.0, 0.0], [0.0, 0.0], [0.0, 0.0], [0.0, 0.0], [0.0, 0.0], [0.0, 0.0], [0.0, 0.0], [0.0, 0.0]]\n",
      "10\n"
     ]
    }
   ],
   "source": [
    "rn = PerceptronMulticamada(n_input=256, n_output=10, hidden_layers=(1,))\n",
    "rn.get_net()"
   ]
  }
 ],
 "metadata": {
  "kernelspec": {
   "display_name": "Python 2",
   "language": "python",
   "name": "python2"
  },
  "language_info": {
   "codemirror_mode": {
    "name": "ipython",
    "version": 2
   },
   "file_extension": ".py",
   "mimetype": "text/x-python",
   "name": "python",
   "nbconvert_exporter": "python",
   "pygments_lexer": "ipython2",
   "version": "2.7.16"
  }
 },
 "nbformat": 4,
 "nbformat_minor": 2
}
