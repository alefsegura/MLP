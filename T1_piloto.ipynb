{
 "cells": [
  {
   "cell_type": "markdown",
   "metadata": {},
   "source": [
    "# SCC0570 - Introdução à Redes Neurais (ICMC - USP)\n",
    "\n",
    "* Alef Segura Santos, 9762942\n",
    "* Guatavo de Moura Souza, 9762981"
   ]
  },
  {
   "cell_type": "code",
   "execution_count": 1,
   "metadata": {},
   "outputs": [],
   "source": [
    "import pandas as pd\n",
    "import numpy as np\n",
    "import matplotlib.pyplot as plt\n",
    "\n",
    "from sklearn.model_selection import train_test_split"
   ]
  },
  {
   "cell_type": "markdown",
   "metadata": {},
   "source": [
    "## Input"
   ]
  },
  {
   "cell_type": "code",
   "execution_count": 2,
   "metadata": {
    "scrolled": true
   },
   "outputs": [],
   "source": [
    "dataset = pd.read_csv('semeion.data', sep=' ', lineterminator='\\n', header=None).iloc[:,:-1]"
   ]
  },
  {
   "cell_type": "markdown",
   "metadata": {},
   "source": [
    "### Amostra de imagens"
   ]
  },
  {
   "cell_type": "code",
   "execution_count": 3,
   "metadata": {},
   "outputs": [
    {
     "data": {
      "image/png": "[encoded data removed]",
      "text/plain": [
       "<matplotlib.figure.Figure at 0xadae048>"
      ]
     },
     "metadata": {},
     "output_type": "display_data"
    }
   ],
   "source": [
    "plt.figure(figsize=(20,5))\n",
    "for i in range(1,8):\n",
    "    plt.subplot(1,8,i)\n",
    "    plt.imshow(dataset.iloc[:,:256].sample().values.reshape(16,16), cmap='binary');\n",
    "    plt.xticks([])\n",
    "    plt.yticks([])"
   ]
  },
  {
   "cell_type": "markdown",
   "metadata": {},
   "source": [
    "# Perceptron Multicamada"
   ]
  },
  {
   "cell_type": "code",
   "execution_count": 406,
   "metadata": {},
   "outputs": [],
   "source": [
    "class PerceptronMulticamada:\n",
    "    \n",
    "    # Configuração inicial da Rede Neural\n",
    "    def __init__(self, learning_rate=0.5, n_input=1, hidden_layers=(3,3), n_output=1, treshold=1e-4):\n",
    "        n_input += 1\n",
    "        hidden_layers = tuple([x+1 for x in hidden_layers])\n",
    "        self.layers = (n_input,) + hidden_layers + (n_output,)\n",
    "        self.learning_rate = learning_rate\n",
    "        self.weights = [np.random.uniform(-0.5,0.5,[self.layers[i]-1,self.layers[i-1]]) for i in range(1,len(self.layers)-1)]\n",
    "        self.weights.append(np.random.uniform(-0.5,0.5,[self.layers[-1],self.layers[-2]]))\n",
    "        self.treshold = treshold\n",
    "        \n",
    "    # Imprime as camadas e os pesos\n",
    "    def get_net(self):\n",
    "        print(self.layers[0])\n",
    "        for w,n in zip(self.weights,self.layers[1:]):\n",
    "            print(w.tolist())\n",
    "            print(n)\n",
    "            \n",
    "    # Treinamento\n",
    "    def fit(self, X, y):\n",
    "        print('época | erro')\n",
    "        erro_medio = 1\n",
    "        n = 0\n",
    "        while(erro_medio>self.treshold):\n",
    "            erro_epoca = []\n",
    "            for v,label in zip(X,y):\n",
    "                states = [v]\n",
    "                for i in range(1,len(self.layers)):\n",
    "                    v = self.forward(v,self.weights[i-1])\n",
    "                    states.append(v)\n",
    "                erro = v[0] - label\n",
    "                erro_epoca.append(erro)\n",
    "                print(self.weights)\n",
    "                print(states)\n",
    "                self.backpropagate(erro,states,self.learning_rate)\n",
    "                print(self.weights)\n",
    "            erro_medio = np.mean(erro_epoca)\n",
    "            print(str(n) + ' | ' + str(erro_medio))\n",
    "            n += 1\n",
    "        \n",
    "    # Feedforward\n",
    "    def forward(self, X, weights):\n",
    "        X = np.insert(X,0,1)\n",
    "        return [self.sigmoide(np.sum(X*w)) for w in weights]\n",
    "\n",
    "    # Previsão\n",
    "    def predict(self, X):\n",
    "        prediction = []\n",
    "        for x in X:\n",
    "            for i in range(1,len(self.layers)):\n",
    "                x = self.forward(x,self.weights[i-1])\n",
    "            prediction.append(x)\n",
    "        return prediction\n",
    "    \n",
    "    # Backpropagation do erro\n",
    "    def backpropagate(self,erro,states,learning_rate):\n",
    "        new_weights = []\n",
    "        for i,j in zip(range(len(self.weights)-1, -1, -1,),range(len(states)-2, -1, -1)):\n",
    "            states[j] = np.insert(states[j],0,1)\n",
    "            new_weights_layer = []\n",
    "            for w in self.weights[i]:\n",
    "                if erro < 0:\n",
    "                    w = np.array([a+a*s*learning_rate for a,s in zip(w,states[j])])\n",
    "                if erro > 0:\n",
    "                    w = np.array([a-a*s*learning_rate for a,s in zip(w,states[j])])\n",
    "                new_weights_layer = new_weights_layer + [w]\n",
    "            new_weights = [new_weights_layer] + new_weights\n",
    "        self.weights = new_weights\n",
    "\n",
    "    # Activation function \n",
    "    def sigmoide(self, s):\n",
    "        return 1 if s > 0 else 0\n",
    "        #return 1/(1+np.exp(-s))"
   ]
  },
  {
   "cell_type": "markdown",
   "metadata": {},
   "source": [
    "## Teste"
   ]
  },
  {
   "cell_type": "code",
   "execution_count": 407,
   "metadata": {
    "scrolled": true
   },
   "outputs": [
    {
     "name": "stdout",
     "output_type": "stream",
     "text": [
      "época | erro\n",
      "[array([[-0.40976565,  0.06516995,  0.38257921]]), array([[-0.26048412, -0.21993268]]), array([[-0.17444514, -0.06459902]])]\n",
      "[[0, 0], [0], [0], [0]]\n",
      "[[array([-0.53269534,  0.06516995,  0.38257921])], [array([-0.33862936, -0.21993268])], [array([-0.22677869, -0.06459902])]]\n",
      "[[array([-0.53269534,  0.06516995,  0.38257921])], [array([-0.33862936, -0.21993268])], [array([-0.22677869, -0.06459902])]]\n",
      "[[0, 1], [0], [0], [0]]\n",
      "[[array([-0.53269534,  0.06516995,  0.38257921])], [array([-0.33862936, -0.21993268])], [array([-0.22677869, -0.06459902])]]\n",
      "[[array([-0.53269534,  0.06516995,  0.38257921])], [array([-0.33862936, -0.21993268])], [array([-0.22677869, -0.06459902])]]\n",
      "[[1, 0], [0], [0], [0]]\n",
      "[[array([-0.53269534,  0.06516995,  0.38257921])], [array([-0.33862936, -0.21993268])], [array([-0.22677869, -0.06459902])]]\n",
      "[[array([-0.53269534,  0.06516995,  0.38257921])], [array([-0.33862936, -0.21993268])], [array([-0.22677869, -0.06459902])]]\n",
      "[[1, 1], [0], [0], [0]]\n",
      "[[array([-0.69250395,  0.08472093,  0.49735298])], [array([-0.44021817, -0.21993268])], [array([-0.29481229, -0.06459902])]]\n",
      "0 | -0.5\n"
     ]
    }
   ],
   "source": [
    "X = [[0,0],[0,1],[1,0],[1,1]]\n",
    "y = [1,0,0,1]\n",
    "mlp = PerceptronMulticamada(n_input=2, hidden_layers=(1,1), n_output=1, learning_rate=0.3, treshold=0.1)\n",
    "mlp.fit(X,y)"
   ]
  },
  {
   "cell_type": "code",
   "execution_count": 352,
   "metadata": {},
   "outputs": [
    {
     "data": {
      "text/plain": [
       "[[0.5741036715961233],\n",
       " [0.57410767992807465],\n",
       " [0.57411507117169136],\n",
       " [0.57411903819328214]]"
      ]
     },
     "execution_count": 352,
     "metadata": {},
     "output_type": "execute_result"
    }
   ],
   "source": [
    "mlp.predict([[0,0],[0,1],[1,0],[1,1]])"
   ]
  },
  {
   "cell_type": "markdown",
   "metadata": {},
   "source": [
    "# Aplicação\n",
    "## Reconhecendo dígitos manuscritos"
   ]
  },
  {
   "cell_type": "code",
   "execution_count": 416,
   "metadata": {},
   "outputs": [],
   "source": [
    "X = dataset.iloc[:,:256].values\n",
    "y = dataset.iloc[:,256:].values"
   ]
  },
  {
   "cell_type": "code",
   "execution_count": 16,
   "metadata": {},
   "outputs": [
    {
     "name": "stdout",
     "output_type": "stream",
     "text": [
      "257\n",
      "[[0.5571506863052986, 0.44904335053103483, 0.2920593622537462, 0.36912301748385346, 0.9376523066866433, 0.6975289170493307, 0.1547446994993843, 0.3702460809850662, 0.3871368890875203, 0.15146766087828623, 0.4125685083141146, 0.11520469457087046, 0.4514850169973461, 0.40406331862136846, 0.12429581116684751, 0.2379890186644512, 0.36736932511581677, 0.32295790497518906, 0.9782686051288556, 0.821515730338392, 0.21960657800194106, 0.6456289704586986, 0.5131658838537251, 0.3930722508710739, 0.2891190680158503, 0.305562306172805, 0.5741707727100612, 0.3210557888394807, 0.6800048625619949, 0.8169362471993195, 0.9662072330463399, 0.2138756550763682, 0.026612526127412717, 0.5130602984590922, 0.924740158978576, 0.9091730592688486, 0.14880811534879546, 0.9310559159869265, 0.035409266126415595, 0.3996525899275861, 0.7131002000704243, 0.38083709529565923, 0.891888367229493, 0.5221318155083373, 0.43677094109362746, 0.7819007310167653, 0.2551599730878136, 0.21728414261454665, 0.9740180250420658, 0.7194629114521154, 0.013995627932818389, 0.4607389467699168, 0.816492259024005, 0.10087233519817795, 0.06960896603035416, 0.17845177185270777, 0.8747141589781295, 0.5829205954498258, 0.3101339500966215, 0.21920196152457427, 0.077298777683933, 0.5858672201518811, 0.3688467729321141, 0.7644155864101564, 0.720378103494753, 0.39568340891946185, 0.5133468714092967, 0.9952148145058807, 0.5619046031052802, 0.6425219270963273, 0.7302062627351169, 0.07568225977147003, 0.12893489495837396, 0.08529545734938304, 0.879862485310815, 0.6222595944741119, 0.10665762547165414, 0.3161797208365509, 0.34532050455341057, 0.5764431808477241, 0.18230480314361697, 0.45895304178461427, 0.34046926281260104, 0.6673018255173016, 0.7521701229670883, 0.4522033484015756, 0.6860896162499616, 0.3291298772590744, 0.1507975124057036, 0.23948718181223605, 0.6498526269683339, 0.1310819672435536, 0.7852756800232638, 0.9281794477142424, 0.3198376679512699, 0.17622045521933938, 0.17272009188791893, 0.3377153648493686, 0.19772367005426672, 0.47741480327510744, 0.7806474896669298, 0.34671305423911314, 0.8810021449249754, 0.9422020261397224, 0.1157530253912803, 0.5489091689918186, 0.38970453528671267, 0.034143609538355935, 0.5714131184689023, 0.11728125162557668, 0.7574027539551831, 0.8562584455412432, 0.5839241423683419, 0.787178162488415, 0.26633682239454015, 0.38989742485850964, 0.07722844625378966, 0.24505879099268713, 0.4655905100753268, 0.3957468026561112, 0.7739339118544382, 0.020877793299671987, 0.9048959104893047, 0.9497855338180651, 0.8487959748158321, 0.8024873940439122, 0.1352604348306985, 0.25672952546450334, 0.24558648786885073, 0.3952486241287375, 0.8286508792465807, 0.41600184935962403, 0.7585002718599378, 0.649959257251358, 0.7989805811196611, 0.9449442076426803, 0.4697136901653868, 0.8004532891687421, 0.4379989533532995, 0.28490818570007714, 0.32568477758848835, 0.40516676953087516, 0.7340864811728781, 0.1695025954432402, 0.2730784040679235, 0.31833579275602675, 0.9073182237592009, 0.5497453438451222, 0.25797295628521777, 0.558247702105559, 0.23637376058846138, 0.4820692604028477, 0.2770475335376017, 0.959794177151712, 0.91278545462368, 0.9871425343837712, 0.8339478618027072, 0.64253832910346, 0.6242222494900106, 0.1827891715701998, 0.46993627959839956, 0.21769372095733608, 0.8095589547977653, 0.45367355616347227, 0.3445710854390943, 0.02639614714855132, 0.20507655524313428, 0.22820212500198733, 0.7300475793101834, 0.12051971836705011, 0.6754915971825511, 0.23090764786696272, 0.505198034497032, 0.15919129771824359, 0.1833523102174618, 0.07978458259766918, 0.9899571659759356, 0.19889691210486238, 0.32571850469030894, 0.17344657858863544, 0.24628573190199898, 0.6156246979266407, 0.03837407574205598, 0.20076521561166838, 0.8635245232736277, 0.32137930871575815, 0.7769194113004587, 0.0681621511392203, 0.9068363915526181, 0.7005804019564478, 0.788399166211039, 0.0720317370343937, 0.2432662748850437, 0.045966106332208545, 0.5910661836913466, 0.43164828756986195, 0.3857222384137581, 0.5373695427264175, 0.9908078071591413, 0.06496685250657008, 0.7913646421455576, 0.81609251461426, 0.899247016148897, 0.3612651493693462, 0.30470689265464657, 0.14910851123090285, 0.48544602206597454, 0.17103542224754076, 0.880831652270184, 0.31553805088316067, 0.2530903784325742, 0.37339800458116534, 0.28782383280650015, 0.19712939603329138, 0.7926485929896749, 0.12764815791649653, 0.7325983182018113, 0.7394291744985805, 0.19904957192225936, 0.21726563954966605, 0.1495681762505764, 0.44364458371019133, 0.5403778693615857, 0.0008754611018887415, 0.45259181528245407, 0.8231988541539529, 0.9081800029584507, 0.9010776630819411, 0.3813721852939912, 0.7781323999369559, 0.14340502934814392, 0.13303168681127764, 0.49763940989695976, 0.8646050196606845, 0.6167729926219218, 0.46174150725174234, 0.7213348788495525, 0.23813653016186231, 0.801925146036036, 0.3447048690370933, 0.4711521556906534, 0.22675986800069958, 0.8392718091609225, 0.9654988411442945, 0.2535711158578714, 0.008247051248048143, 0.9803548218481994, 0.5673399174197258, 0.07860257173644158, 0.1380639049726039, 0.14019198192381987, 0.10838863642411245, 0.9308743048535778, 0.4063598942620956, 0.8516429492436802, 0.5505384983411389, 0.946839153851082]]\n",
      "2\n",
      "[[0.6706639593985524, 0.7813862970195604], [0.8430868632582867, 0.7802166545604051], [0.2501029800964282, 0.22276766663052183], [0.4284847710244384, 0.22840540830221512], [0.8664573154983517, 0.720561817803049], [0.07295337702748528, 0.3598434040466869], [0.2749978969723996, 0.43562749482118723], [0.9135670982833697, 0.8841338969941597], [0.3345577334852452, 0.2556629011910979], [0.5085230104727632, 0.1774835305925686]]\n",
      "10\n"
     ]
    }
   ],
   "source": [
    "rn = PerceptronMulticamada(n_input=256, n_output=10, hidden_layers=(1,))\n",
    "rn.get_net()"
   ]
  }
 ],
 "metadata": {
  "kernelspec": {
   "display_name": "Python 2",
   "language": "python",
   "name": "python2"
  },
  "language_info": {
   "codemirror_mode": {
    "name": "ipython",
    "version": 2
   },
   "file_extension": ".py",
   "mimetype": "text/x-python",
   "name": "python",
   "nbconvert_exporter": "python",
   "pygments_lexer": "ipython2",
   "version": "2.7.16"
  }
 },
 "nbformat": 4,
 "nbformat_minor": 2
}
